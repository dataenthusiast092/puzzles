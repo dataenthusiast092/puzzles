{
 "cells": [
  {
   "cell_type": "code",
   "execution_count": 1,
   "metadata": {},
   "outputs": [],
   "source": [
    "import math"
   ]
  },
  {
   "cell_type": "code",
   "execution_count": 2,
   "metadata": {},
   "outputs": [],
   "source": [
    "empty = 0\n",
    "\n",
    "# a, b, and c are odd numbered measuring containers, where .\n",
    "# Maximum qty. of liquid a, b and c can hold are (b+c) = (a+1) = even and a>c>b. \n",
    "# Also, c=b+i, where i can be either 2 or 6.\n",
    "# Initially, a is empty, and b, c are full.\n",
    "\n",
    "a_max = 15\n",
    "b_max = 7\n",
    "c_max = 9\n",
    "\n",
    "a=0\n",
    "b=7\n",
    "c=9\n",
    "\n",
    "# We have to find if a is {(b+c)/2}, which is even and print all the steps followed sequentially."
   ]
  },
  {
   "cell_type": "code",
   "execution_count": 3,
   "metadata": {},
   "outputs": [
    {
     "name": "stdout",
     "output_type": "stream",
     "text": [
      "Step 1: a = 7 b = 0 c = 9\n",
      "Step 2: a = 15 b = 0 c = 1\n",
      "Step 3: a = 8 b = 7 c = 1\n"
     ]
    }
   ],
   "source": [
    "# Logic:\n",
    "\n",
    "# At 0th step, b and c are full and a empty. So, b is preffered over c when adding to a, since b<c. \n",
    "\n",
    "# 0th step:\n",
    "\n",
    "if(a == empty and c == c_max and b == b_max):\n",
    "    a += b\n",
    "    # update b\n",
    "    b = b_max-b\n",
    "    print('Step 1: a = ' + str(a) + ' b = ' + str(b) + ' c = ' + str(c))\n",
    "\n",
    "# At 1st step, since b is empty because b<a and added to a, \n",
    "# a contains value equal to b, b is now empty(b_max-b)and c remains full.\n",
    "\n",
    "# 1st step:\n",
    "\n",
    "if((empty < a < a_max) and (c == c_max) and (b == empty)):\n",
    "    temp1 = a_max-a #19-7 = 12\n",
    "    temp2 = c-temp1 #13-12 = 1\n",
    "    a = a + temp1\n",
    "    c = temp2 #c = 1\n",
    "    print('Step 2: a = ' + str(a) + ' b = ' + str(b) + ' c = ' + str(c))\n",
    "\n",
    "temp1 = temp2 = 0\n",
    "\n",
    "# Step 2  \n",
    "if(a == a_max):\n",
    "    temp1 = a - b_max\n",
    "    b = b_max\n",
    "    a = temp1\n",
    "    print('Step 3: a = ' + str(a) + ' b = ' + str(b) + ' c = ' + str(c))\n",
    "   \n",
    "temp1 = temp2 = 0\n",
    "\n",
    "# c reaches c_max, never after this, also it doesn't become empty.\n",
    "\n",
    "# 3rd step:\n",
    "# Since a>c>b, therefore preference is decided accordingly.\n",
    "i = 4\n",
    "while(a != 8):\n",
    "    if(empty < a < a_max):\n",
    "        \n",
    "        # a is added to b till its capacity, and remaining a lies in a (a->b)\n",
    "        if((empty < c < c_max) and (b == empty)):\n",
    "            temp1 = a-b_max #5\n",
    "            # update b\n",
    "            b = a-temp1#7\n",
    "            # update a\n",
    "            a = temp1 #5\n",
    "            print('Step ' + str(i) + ' : a = ' + str(a) + ' b = ' + str(b) + ' c = ' + str(c))\n",
    "\n",
    "            \n",
    "        # when b is full, (b->c)\n",
    "        elif((empty < c < c_max) and (b == b_max)):\n",
    "            # when c is greater than ceil of c_max/2, b is added to c till c's capacity\n",
    "            # and remaining b lies in b.\n",
    "            if(c > math.ceil(c_max/2)):\n",
    "                temp1 = c_max-c #5\n",
    "                b -= temp1 #2\n",
    "                c += temp1 #\n",
    "            # when c is less than ceil of c_max/2, b is added to c\n",
    "            else:\n",
    "                c += b\n",
    "                b = empty\n",
    "            print('Step ' + str(i) + ' : a = ' + str(a) + ' b = ' + str(b) + ' c = ' + str(c))\n",
    "        \n",
    "        \n",
    "        # when c is empty, b is added to c (b->c)\n",
    "        elif((c == empty) and (empty < b < b_max)):\n",
    "            c += b\n",
    "            b = empty\n",
    "            print('Step ' + str(i) + ' : a = ' + str(a) + ' b = ' + str(b) + ' c = ' + str(c))\n",
    "        \n",
    "        \n",
    "        # when c is full, c is added to a (c->a)\n",
    "        elif((c == c_max) and (empty < b < b_max)):\n",
    "            a += c\n",
    "            c = empty\n",
    "            print('Step ' + str(i) + ' : a = ' + str(a) + ' b = ' + str(b) + ' c = ' + str(c))\n",
    "\n",
    "            \n",
    "        temp1 = temp2 = 0\n",
    "        \n",
    "    i += 1    "
   ]
  },
  {
   "cell_type": "code",
   "execution_count": null,
   "metadata": {},
   "outputs": [],
   "source": []
  }
 ],
 "metadata": {
  "kernelspec": {
   "display_name": "Python 3",
   "language": "python",
   "name": "python3"
  },
  "language_info": {
   "codemirror_mode": {
    "name": "ipython",
    "version": 3
   },
   "file_extension": ".py",
   "mimetype": "text/x-python",
   "name": "python",
   "nbconvert_exporter": "python",
   "pygments_lexer": "ipython3",
   "version": "3.6.5"
  }
 },
 "nbformat": 4,
 "nbformat_minor": 2
}
